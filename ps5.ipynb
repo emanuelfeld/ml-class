{
 "cells": [
  {
   "cell_type": "markdown",
   "metadata": {},
   "source": [
    "## Problem Set 5"
   ]
  },
  {
   "cell_type": "markdown",
   "metadata": {},
   "source": [
    "**Q1**"
   ]
  },
  {
   "cell_type": "code",
   "execution_count": 7,
   "metadata": {
    "collapsed": false,
    "scrolled": true
   },
   "outputs": [
    {
     "data": {
      "text/plain": [
       "44.99999999999996"
      ]
     },
     "execution_count": 7,
     "metadata": {},
     "output_type": "execute_result"
    }
   ],
   "source": [
    "(8 + 1)/(1 - 0.008 / 0.1**2)"
   ]
  },
  {
   "cell_type": "markdown",
   "metadata": {},
   "source": [
    "**Q2**\n",
    "\n",
    "The graph shows us $sign(\\tilde{\\boldsymbol{w}}^T\\boldsymbol{\\Phi}(\\boldsymbol{x}))$. For constant $x_2$, increasing or decreasing $x_1$ gets us into the -1 class, so $\\tilde{w_1}<0$. Increasing or decreasing $x_2$ from a point in the -1 class will eventually put us in the +1 class, so $\\tilde{w_2}>0$."
   ]
  },
  {
   "cell_type": "markdown",
   "metadata": {},
   "source": [
    "**Q3**\n",
    "\n",
    "For a d-dimensional perceptron, $d_{vc}(\\mathcal{H})=d+1$. In this case, d=14 and $d_{vc}(\\mathcal{H})=15$."
   ]
  },
  {
   "cell_type": "markdown",
   "metadata": {},
   "source": [
    "**Q4**\n",
    "\n",
    "$$\\frac{\\partial}{\\partial u}E(u,v)=2(e^v+2ve^{-u}) \\cdot (ue^v-2ve^{-u})$$\n",
    "\n",
    "$$\\frac{\\partial}{\\partial v}E(u,v)=2(ue^v-2e^{-u}) \\cdot (ue^v-2ve^{-u})$$"
   ]
  },
  {
   "cell_type": "markdown",
   "metadata": {},
   "source": [
    "**Q5-6**"
   ]
  },
  {
   "cell_type": "code",
   "execution_count": 29,
   "metadata": {
    "collapsed": false
   },
   "outputs": [
    {
     "data": {
      "text/plain": [
       "{'Ein': 1.2086833944220747e-15,\n",
       " 'iterations': 10,\n",
       " 'stop': (0.04473629039778207, 0.023958714099141746)}"
      ]
     },
     "execution_count": 29,
     "metadata": {},
     "output_type": "execute_result"
    }
   ],
   "source": [
    "import math\n",
    "\n",
    "def gradient(u, v):\n",
    "    return [\n",
    "        2*(math.exp(v)+2*v*math.exp(-u))*(u*math.exp(v)-2*v*math.exp(-u)),\n",
    "        2*(u*math.exp(v)-2*math.exp(-u))*(u*math.exp(v)-2*v*math.exp(-u))    \n",
    "    ]\n",
    "\n",
    "def E(u, v):\n",
    "    return (u*math.exp(v)-2*v*math.exp(-u))**2\n",
    "\n",
    "def gradient_descent(start, gradient, E, h, threshold=0, max_iter=10000):\n",
    "    u, v = start[0], start[1]\n",
    "    Ein = E(u, v)\n",
    "    iteration = 0\n",
    "    while Ein > threshold and iteration < max_iter:\n",
    "        g = gradient(u, v)\n",
    "        u, v = u - h * g[0], v - h * g[1]\n",
    "        Ein = E(u, v)\n",
    "        iteration += 1\n",
    "    return {\n",
    "        'stop': (u, v), \n",
    "        'Ein': Ein, \n",
    "        'iterations': iteration\n",
    "    }\n",
    "\n",
    "gradient_descent(\n",
    "    start=[1.0, 1.0], gradient=gradient, E=E, h=0.1, threshold=1e-14)"
   ]
  },
  {
   "cell_type": "markdown",
   "metadata": {},
   "source": [
    "**Q7**"
   ]
  },
  {
   "cell_type": "code",
   "execution_count": 28,
   "metadata": {
    "collapsed": false
   },
   "outputs": [
    {
     "data": {
      "text/plain": [
       "{'Ein': 0.13981379199615315,\n",
       " 'iterations': 15,\n",
       " 'stop': (6.29707589930517, -2.852306954077811)}"
      ]
     },
     "execution_count": 28,
     "metadata": {},
     "output_type": "execute_result"
    }
   ],
   "source": [
    "def coordinate_descent(start, gradient, E, h, threshold=0, max_iter=10000):\n",
    "    u, v = start[0], start[1]\n",
    "    Ein = E(u, v)\n",
    "    iteration = 0\n",
    "    while Ein > threshold and iteration < max_iter:\n",
    "        u = u - h * gradient(u, v)[0]\n",
    "        v = v - h * gradient(u, v)[1]\n",
    "        Ein = E(u, v)\n",
    "        iteration += 1\n",
    "    return {\n",
    "        'stop': (u, v), \n",
    "        'Ein': Ein, \n",
    "        'iterations': iteration\n",
    "    }\n",
    "\n",
    "coordinate_descent(\n",
    "    start=[1.0, 1.0], gradient=gradient, E=E, h=0.1, max_iter=15)"
   ]
  },
  {
   "cell_type": "markdown",
   "metadata": {},
   "source": [
    "Not as fast as gradient descent."
   ]
  },
  {
   "cell_type": "markdown",
   "metadata": {},
   "source": [
    "**Q8-9**"
   ]
  },
  {
   "cell_type": "code",
   "execution_count": 30,
   "metadata": {
    "collapsed": true
   },
   "outputs": [],
   "source": [
    "from lfd import classify, Data, Line\n",
    "import numpy as np\n",
    "\n",
    "class Logistic:\n",
    "    def __init__(self, weights=np.zeros([3])):\n",
    "        self.weights = weights\n",
    "\n",
    "    def run(self):\n",
    "        pass\n",
    "\n",
    "N_train = 100\n",
    "N_test = 1000\n",
    "N_simulations = 100\n",
    "E_out = 0.0\n",
    "h = 0.01\n",
    "threshold = 0.01\n",
    "\n",
    "line = Line()\n",
    "training_set = Data(N_train)\n",
    "training_set.Y = classify(training_set.X, line.weights)\n",
    "\n",
    "logistic = Logistic()\n"
   ]
  }
 ],
 "metadata": {
  "kernelspec": {
   "display_name": "Python 3",
   "language": "python",
   "name": "python3"
  },
  "language_info": {
   "codemirror_mode": {
    "name": "ipython",
    "version": 3
   },
   "file_extension": ".py",
   "mimetype": "text/x-python",
   "name": "python",
   "nbconvert_exporter": "python",
   "pygments_lexer": "ipython3",
   "version": "3.5.1"
  }
 },
 "nbformat": 4,
 "nbformat_minor": 0
}

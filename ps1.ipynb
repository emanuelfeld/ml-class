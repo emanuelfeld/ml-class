{
 "cells": [
  {
   "cell_type": "markdown",
   "metadata": {},
   "source": [
    "## Problem Set 1"
   ]
  },
  {
   "cell_type": "markdown",
   "metadata": {},
   "source": [
    "**Q1**\n",
    "\n",
    "Scenario (i) does not involve machine learning, because everything is exactly determined and there is no learning involved. Scenario (ii) utilizes supervised learning, because we infer the target function based on a labeled set of training data. Scenario (iii) uses reinforcement learning; the output is performance-graded."
   ]
  },
  {
   "cell_type": "markdown",
   "metadata": {},
   "source": [
    "**Q2**\n",
    "\n",
    "Problems (ii) and (iv) are suited to machine learning."
   ]
  },
  {
   "cell_type": "markdown",
   "metadata": {},
   "source": [
    "**Q3**\n",
    "\n",
    "Asking for the probability that the second chosen marble is black (m2 = B), given that the first chosen marble was black (m1 = B) is equivalent to asking the probability that we picked the bag with two black marbles (2B), given the same.\n",
    "\n",
    "$$P(2B\\,|\\, m1=B) = \\frac{P(2B) \\cdot P(m1 = B\\,|\\,2B)}{P(m1 = B)} = \\frac{\\frac{1}{2} \\cdot 1}{\\frac{3}{4}} = \\frac{2}{3}$$"
   ]
  },
  {
   "cell_type": "markdown",
   "metadata": {},
   "source": [
    "**Q4**\n",
    "\n",
    "For a single sample of 10 i.i.d. random variables drawn from the bin with replacement, with u = 0.55, the probability that v = 0 is:"
   ]
  },
  {
   "cell_type": "code",
   "execution_count": 8,
   "metadata": {
    "collapsed": false
   },
   "outputs": [
    {
     "data": {
      "text/plain": [
       "0.0003405062891601559"
      ]
     },
     "execution_count": 8,
     "metadata": {},
     "output_type": "execute_result"
    }
   ],
   "source": [
    "(1 - 0.55)**10"
   ]
  },
  {
   "cell_type": "markdown",
   "metadata": {},
   "source": [
    "**Q5**\n",
    "\n",
    "The probability that none of 1,000 independent samples have v = 0 is:"
   ]
  },
  {
   "cell_type": "code",
   "execution_count": 10,
   "metadata": {
    "collapsed": false
   },
   "outputs": [
    {
     "data": {
      "text/plain": [
       "0.71136880215019"
      ]
     },
     "execution_count": 10,
     "metadata": {},
     "output_type": "execute_result"
    }
   ],
   "source": [
    "(1 - (0.45)**10)**1000"
   ]
  },
  {
   "cell_type": "markdown",
   "metadata": {},
   "source": [
    "1 less that value is the probability that at least one of the 1,000 independent samples has v = 0."
   ]
  },
  {
   "cell_type": "code",
   "execution_count": 11,
   "metadata": {
    "collapsed": false
   },
   "outputs": [
    {
     "data": {
      "text/plain": [
       "0.28863119784980995"
      ]
     },
     "execution_count": 11,
     "metadata": {},
     "output_type": "execute_result"
    }
   ],
   "source": [
    "1 - (1 - (0.45)**10)**1000"
   ]
  },
  {
   "cell_type": "markdown",
   "metadata": {},
   "source": [
    "**Q6**\n",
    "\n",
    "Each hypothesis returns the same score."
   ]
  },
  {
   "cell_type": "code",
   "execution_count": 37,
   "metadata": {
    "collapsed": false
   },
   "outputs": [
    {
     "name": "stdout",
     "output_type": "stream",
     "text": [
      "12\n",
      "12\n",
      "12\n",
      "12\n"
     ]
    }
   ],
   "source": [
    "import numpy as np\n",
    "import itertools as it\n",
    "\n",
    "X = np.array([\n",
    "        [1, 0, 1], \n",
    "        [1, 1, 0], \n",
    "        [1, 1, 1]\n",
    "    ])\n",
    "\n",
    "Yt = np.array([list(i) for i in it.product([0, 1], repeat=3)])\n",
    "\n",
    "def grade(hypothesis):\n",
    "    score = 0\n",
    "    for target in Yt:\n",
    "        score += np.sum(np.equal(hypothesis, target))\n",
    "    print(score)\n",
    "\n",
    "a = np.array([1 for row in X])\n",
    "b = np.array([0 for row in X])\n",
    "c = np.array([0 if np.sum(row) % 2 == 0 else 1 for row in X])\n",
    "d = np.array([1 if np.sum(row) % 2 == 0 else 0 for row in X])\n",
    "\n",
    "grade(a)\n",
    "grade(b)\n",
    "grade(c)\n",
    "grade(d)\n"
   ]
  },
  {
   "cell_type": "markdown",
   "metadata": {},
   "source": [
    "**Q7-10**"
   ]
  },
  {
   "cell_type": "code",
   "execution_count": 1,
   "metadata": {
    "collapsed": false
   },
   "outputs": [
    {
     "name": "stdout",
     "output_type": "stream",
     "text": [
      "Avg. PLA iterations (N = 10): 9.627\n",
      "Avg. PLA E_out (N = 10): 0.11014099999999996\n",
      "Avg. PLA iterations (N = 100): 98.842\n",
      "Avg. PLA E_out (N = 100): 0.013766999999999977\n"
     ]
    }
   ],
   "source": [
    "from lfd import classify, error_rate, Data, Line, PLA\n",
    "\n",
    "N_sims = 1000\n",
    "\n",
    "iterations_10, E_out_10 = 0.0, 0.0\n",
    "iterations_100, E_out_100 = 0.0, 0.0\n",
    "\n",
    "def pla_sim(N_train, N_test):    \n",
    "    line = Line()\n",
    "\n",
    "    training_set = Data([N_train, 3], intercept=True)\n",
    "    training_set.Y = classify(training_set.X, line.weights)\n",
    "\n",
    "    test_set = Data([N_test, 3], intercept=True)\n",
    "    test_set.Y = classify(test_set.X, line.weights)\n",
    "\n",
    "    perceptron = PLA()\n",
    "    iterations = perceptron.run(training_set.X, training_set.Y)\n",
    "\n",
    "    weights = perceptron.weights\n",
    "\n",
    "    prediction_out = classify(test_set.X, weights)\n",
    "    E_out = error_rate(prediction_out, test_set.Y)\n",
    "\n",
    "    return iterations, E_out\n",
    "\n",
    "for _ in range(N_sims):\n",
    "    _iterations, _E_out = pla_sim(N_train=10, N_test=1000)\n",
    "    iterations_10 += _iterations\n",
    "    E_out_10 += _E_out\n",
    "\n",
    "    _iterations, _E_out = pla_sim(N_train=100, N_test=1000)\n",
    "    iterations_100 += _iterations\n",
    "    E_out_100 += _E_out\n",
    "\n",
    "print('Avg. PLA iterations (N = 10): {}'.format(iterations_10 / N_sims))\n",
    "print('Avg. PLA E_out (N = 10): {}'.format(E_out_10 / N_sims))\n",
    "\n",
    "print('Avg. PLA iterations (N = 100): {}'.format(iterations_100 / N_sims))\n",
    "print('Avg. PLA E_out (N = 100): {}'.format(E_out_100 / N_sims))\n"
   ]
  },
  {
   "cell_type": "code",
   "execution_count": null,
   "metadata": {
    "collapsed": true
   },
   "outputs": [],
   "source": []
  }
 ],
 "metadata": {
  "kernelspec": {
   "display_name": "Python 3",
   "language": "python",
   "name": "python3"
  },
  "language_info": {
   "codemirror_mode": {
    "name": "ipython",
    "version": 3
   },
   "file_extension": ".py",
   "mimetype": "text/x-python",
   "name": "python",
   "nbconvert_exporter": "python",
   "pygments_lexer": "ipython3",
   "version": "3.5.1"
  }
 },
 "nbformat": 4,
 "nbformat_minor": 0
}

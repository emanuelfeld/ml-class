{
 "cells": [
  {
   "cell_type": "markdown",
   "metadata": {},
   "source": [
    "## Problem Set 3"
   ]
  },
  {
   "cell_type": "markdown",
   "metadata": {},
   "source": [
    "**Q1-3**"
   ]
  },
  {
   "cell_type": "code",
   "execution_count": 4,
   "metadata": {
    "collapsed": false
   },
   "outputs": [
    {
     "name": "stdout",
     "output_type": "stream",
     "text": [
      "When M = 1: at least 840 examples are needed\n",
      "When M = 10: at least 1301 examples are needed\n",
      "When M = 100: at least 1761 examples are needed\n"
     ]
    }
   ],
   "source": [
    "import math\n",
    "\n",
    "def hoeffding(bound, epsilon):\n",
    "  def f(M):\n",
    "    return int(\n",
    "      math.ceil(\n",
    "        math.log(float(bound) / (2 * M)) / (-2 * epsilon**2)\n",
    "      )\n",
    "    )\n",
    "  return f\n",
    "\n",
    "f = hoeffding(bound=0.03, epsilon=0.05)\n",
    "\n",
    "print('When M = 1: at least {} examples are needed'.format(f(M=1)))\n",
    "print('When M = 10: at least {} examples are needed'.format(f(M=10)))\n",
    "print('When M = 100: at least {} examples are needed'.format(f(M=100)))"
   ]
  },
  {
   "cell_type": "markdown",
   "metadata": {},
   "source": [
    "**Q4**\n",
    "\n",
    "It's easy to image a configuration of 4 points that can be shattered by a plane. For 5 points: 3 points define a plane. Say that two points are offset (i.e. there isn't a plane passing through 4 or 5 points, cases where we definitely could not show shattering by a plane) and that these 2 points are of the other class than the 3 others. A plane will not be able to correctly separate these. So, 5 points cannot be shattered by a plane. That makes 5 the break point."
   ]
  },
  {
   "cell_type": "markdown",
   "metadata": {},
   "source": [
    "**Q5**\n",
    "\n",
    "(i) is the growth function for positive rays. (ii) is for positive intervals. (v) is for convex sets.\n",
    "\n",
    "(iii) and (iv) would not work, because if there is any break point, the growth function has to be polynomial, which these are not. Otherwise the growth function would be $2^{N}$."
   ]
  },
  {
   "cell_type": "markdown",
   "metadata": {},
   "source": [
    "**Q6**\n",
    "\n",
    "5 is the smallest break point under the \"2-intervals\" learning model. This hypothesis set cannot correctly classify 5 points in $\\mathbb{R}$ with the following assignment:\n",
    "\n",
    "$$(+) (-) (+) (-) (+)$$"
   ]
  },
  {
   "cell_type": "markdown",
   "metadata": {},
   "source": [
    "**Q7**\n",
    "\n",
    "For the 2-intervals hypothesis set, we have 3 cases:\n",
    "\n",
    "1. The two intervals are disjoint and have non-zero length\n",
    "2. The two intervals are not disjoint and have non-zero length\n",
    "3. The two intervals have zero length\n",
    "\n",
    "In the first case, we must choose four distinct end-spots from among the N+1 possible. In the second, we only choose two end-spots from the N+1. And then, like the single positive-intervals example, we get a +1 from the zero-length intervals case.\n",
    "\n",
    "This sums up to a growth function $\\mathcal{m_H}(N)=\\binom{N+1}{4} + \\binom{N+1}{2} + 1$."
   ]
  },
  {
   "cell_type": "markdown",
   "metadata": {},
   "source": [
    "**Q8**\n",
    "\n",
    "The smallest break point under the general \"M-intervals\" learning model is just $2M+1$ (alternating + and - assignments, with one more + than -)."
   ]
  },
  {
   "cell_type": "markdown",
   "metadata": {},
   "source": [
    "**Q10**\n",
    "\n",
    "This is equivalent to the single positive-interval hypothesis, with the points on the line denoting the radius of the circle. We are choosing two radii from N+1 spots (plus the zero-length radius case), so the growth function, $\\mathcal{m_H}(N)=\\binom{N+1}{2} + 1$."
   ]
  }
 ],
 "metadata": {
  "kernelspec": {
   "display_name": "Python 3",
   "language": "python",
   "name": "python3"
  },
  "language_info": {
   "codemirror_mode": {
    "name": "ipython",
    "version": 3
   },
   "file_extension": ".py",
   "mimetype": "text/x-python",
   "name": "python",
   "nbconvert_exporter": "python",
   "pygments_lexer": "ipython3",
   "version": "3.5.1"
  }
 },
 "nbformat": 4,
 "nbformat_minor": 0
}
